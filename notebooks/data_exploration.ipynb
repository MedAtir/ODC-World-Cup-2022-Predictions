{
 "cells": [
  {
   "cell_type": "code",
   "execution_count": 1,
   "id": "7776bbab",
   "metadata": {},
   "outputs": [],
   "source": [
    "import numpy as np\n",
    "import pandas as pd"
   ]
  },
  {
   "cell_type": "code",
   "execution_count": 2,
   "id": "c610cf71",
   "metadata": {},
   "outputs": [],
   "source": [
    "df = pd.read_csv('../data/results.csv')"
   ]
  },
  {
   "cell_type": "code",
   "execution_count": 5,
   "id": "f9f3bd9e",
   "metadata": {},
   "outputs": [
    {
     "data": {
      "text/html": [
       "<div>\n",
       "<style scoped>\n",
       "    .dataframe tbody tr th:only-of-type {\n",
       "        vertical-align: middle;\n",
       "    }\n",
       "\n",
       "    .dataframe tbody tr th {\n",
       "        vertical-align: top;\n",
       "    }\n",
       "\n",
       "    .dataframe thead th {\n",
       "        text-align: right;\n",
       "    }\n",
       "</style>\n",
       "<table border=\"1\" class=\"dataframe\">\n",
       "  <thead>\n",
       "    <tr style=\"text-align: right;\">\n",
       "      <th></th>\n",
       "      <th>date</th>\n",
       "      <th>home_team</th>\n",
       "      <th>away_team</th>\n",
       "      <th>home_score</th>\n",
       "      <th>away_score</th>\n",
       "      <th>tournament</th>\n",
       "      <th>city</th>\n",
       "      <th>country</th>\n",
       "      <th>neutral</th>\n",
       "    </tr>\n",
       "  </thead>\n",
       "  <tbody>\n",
       "    <tr>\n",
       "      <th>43749</th>\n",
       "      <td>2022-06-14</td>\n",
       "      <td>Chile</td>\n",
       "      <td>Ghana</td>\n",
       "      <td>0</td>\n",
       "      <td>0</td>\n",
       "      <td>Kirin Cup</td>\n",
       "      <td>Suita</td>\n",
       "      <td>Japan</td>\n",
       "      <td>True</td>\n",
       "    </tr>\n",
       "    <tr>\n",
       "      <th>43750</th>\n",
       "      <td>2022-06-14</td>\n",
       "      <td>Japan</td>\n",
       "      <td>Tunisia</td>\n",
       "      <td>0</td>\n",
       "      <td>3</td>\n",
       "      <td>Kirin Cup</td>\n",
       "      <td>Suita</td>\n",
       "      <td>Japan</td>\n",
       "      <td>False</td>\n",
       "    </tr>\n",
       "    <tr>\n",
       "      <th>43751</th>\n",
       "      <td>2022-06-14</td>\n",
       "      <td>South Korea</td>\n",
       "      <td>Egypt</td>\n",
       "      <td>4</td>\n",
       "      <td>1</td>\n",
       "      <td>Friendly</td>\n",
       "      <td>Seoul</td>\n",
       "      <td>South Korea</td>\n",
       "      <td>False</td>\n",
       "    </tr>\n",
       "  </tbody>\n",
       "</table>\n",
       "</div>"
      ],
      "text/plain": [
       "             date    home_team away_team  home_score  away_score tournament  \\\n",
       "43749  2022-06-14        Chile     Ghana           0           0  Kirin Cup   \n",
       "43750  2022-06-14        Japan   Tunisia           0           3  Kirin Cup   \n",
       "43751  2022-06-14  South Korea     Egypt           4           1   Friendly   \n",
       "\n",
       "        city      country  neutral  \n",
       "43749  Suita        Japan     True  \n",
       "43750  Suita        Japan    False  \n",
       "43751  Seoul  South Korea    False  "
      ]
     },
     "execution_count": 5,
     "metadata": {},
     "output_type": "execute_result"
    }
   ],
   "source": [
    "df.tail(3)"
   ]
  },
  {
   "cell_type": "code",
   "execution_count": 8,
   "id": "5dc301af",
   "metadata": {},
   "outputs": [
    {
     "name": "stdout",
     "output_type": "stream",
     "text": [
      "<class 'pandas.core.frame.DataFrame'>\n",
      "RangeIndex: 43752 entries, 0 to 43751\n",
      "Data columns (total 9 columns):\n",
      " #   Column      Non-Null Count  Dtype \n",
      "---  ------      --------------  ----- \n",
      " 0   date        43752 non-null  object\n",
      " 1   home_team   43752 non-null  object\n",
      " 2   away_team   43752 non-null  object\n",
      " 3   home_score  43752 non-null  int64 \n",
      " 4   away_score  43752 non-null  int64 \n",
      " 5   tournament  43752 non-null  object\n",
      " 6   city        43752 non-null  object\n",
      " 7   country     43752 non-null  object\n",
      " 8   neutral     43752 non-null  bool  \n",
      "dtypes: bool(1), int64(2), object(6)\n",
      "memory usage: 2.7+ MB\n"
     ]
    }
   ],
   "source": [
    "df.info()"
   ]
  },
  {
   "cell_type": "code",
   "execution_count": 9,
   "id": "60b60e6c",
   "metadata": {},
   "outputs": [
    {
     "data": {
      "text/plain": [
       "'1872-11-30'"
      ]
     },
     "execution_count": 9,
     "metadata": {},
     "output_type": "execute_result"
    }
   ],
   "source": [
    "df.date.min()"
   ]
  },
  {
   "cell_type": "code",
   "execution_count": 10,
   "id": "935bcd51",
   "metadata": {},
   "outputs": [
    {
     "data": {
      "text/plain": [
       "'2022-06-14'"
      ]
     },
     "execution_count": 10,
     "metadata": {},
     "output_type": "execute_result"
    }
   ],
   "source": [
    "df.date.max()"
   ]
  },
  {
   "cell_type": "code",
   "execution_count": 11,
   "id": "e15178b0",
   "metadata": {},
   "outputs": [
    {
     "data": {
      "text/plain": [
       "array(['Scotland', 'England', 'Wales', 'Northern Ireland',\n",
       "       'United States', 'Uruguay', 'Austria', 'Hungary', 'Argentina',\n",
       "       'Belgium', 'France', 'Netherlands', 'Czechoslovakia',\n",
       "       'Switzerland', 'Sweden', 'Germany', 'Italy', 'Chile', 'Norway',\n",
       "       'Finland', 'Luxembourg', 'Russia', 'Denmark', 'Catalonia',\n",
       "       'Basque Country', 'Brazil', 'Japan', 'Paraguay', 'Canada',\n",
       "       'Estonia', 'Costa Rica', 'Guatemala', 'Spain', 'Brittany',\n",
       "       'Poland', 'Yugoslavia', 'New Zealand', 'Romania', 'Latvia',\n",
       "       'Galicia', 'Portugal', 'Andalusia', 'China PR', 'Australia',\n",
       "       'Lithuania', 'Turkey', 'Central Spain', 'Mexico', 'Aruba', 'Egypt',\n",
       "       'Haiti', 'Philippines', 'Bulgaria', 'Jamaica', 'Kenya', 'Bolivia',\n",
       "       'Peru', 'Honduras', 'Guyana', 'Uganda', 'Belarus', 'El Salvador',\n",
       "       'Barbados', 'Republic of Ireland', 'Trinidad and Tobago', 'Greece',\n",
       "       'Curaçao', 'Dominica', 'Silesia', 'Guadeloupe', 'Israel',\n",
       "       'Suriname', 'French Guiana', 'Cuba', 'Colombia', 'Ecuador',\n",
       "       'Saint Kitts and Nevis', 'Panama', 'Slovakia', 'Manchukuo',\n",
       "       'Croatia', 'Nicaragua', 'Afghanistan', 'India', 'Martinique',\n",
       "       'Zimbabwe', 'Iceland', 'Albania', 'Venezuela', 'Madagascar',\n",
       "       'Zambia', 'Mauritius', 'Tanzania', 'Iran', 'Djibouti', 'DR Congo',\n",
       "       'Vietnam', 'Macau', 'Ethiopia', 'Puerto Rico', 'Réunion',\n",
       "       'Sierra Leone', 'Zanzibar', 'South Korea', 'Ghana', 'South Africa',\n",
       "       'New Caledonia', 'Fiji', 'Nigeria', 'Myanmar', 'Sri Lanka',\n",
       "       'Tahiti', 'Gambia', 'Hong Kong', 'Singapore', 'Malaysia',\n",
       "       'Indonesia', 'Guinea-Bissau', 'German DR', 'Vanuatu', 'Kernow',\n",
       "       'Saarland', 'Cambodia', 'Lebanon', 'Pakistan', 'Vietnam Republic',\n",
       "       'North Korea', 'Togo', 'Sudan', 'Malta', 'Syria', 'Tunisia',\n",
       "       'Malawi', 'Morocco', 'Benin', 'Cameroon',\n",
       "       'Central African Republic', 'Gabon', 'Ivory Coast', 'Congo',\n",
       "       'Mali', 'North Vietnam', 'Mongolia', 'Taiwan', 'Cyprus', 'Iraq',\n",
       "       'Saint Lucia', 'Grenada', 'Thailand', 'Senegal', 'Libya', 'Guinea',\n",
       "       'Algeria', 'Kuwait', 'Jordan', 'Solomon Islands', 'Liberia',\n",
       "       'Laos', 'Saint Vincent and the Grenadines', 'Bermuda', 'Niger',\n",
       "       'Montenegro', 'Palestine', 'Bahrain', 'Papua New Guinea',\n",
       "       'Burkina Faso', 'Mauritania', 'Saudi Arabia', 'Eswatini',\n",
       "       'Western Australia', 'Somalia', 'Lesotho', 'Cook Islands', 'Qatar',\n",
       "       'Antigua and Barbuda', 'Faroe Islands', 'Bangladesh', 'Yemen',\n",
       "       'Oman', 'Yemen DPR', 'Burundi', 'Mozambique', 'Guam', 'Chad',\n",
       "       'Angola', 'Dominican Republic', 'Seychelles', 'Rwanda',\n",
       "       'São Tomé and Príncipe', 'Botswana', 'Northern Cyprus',\n",
       "       'Cape Verde', 'Kyrgyzstan', 'Georgia', 'Azerbaijan', 'Kiribati',\n",
       "       'Tonga', 'Wallis Islands and Futuna', 'United Arab Emirates',\n",
       "       'Brunei', 'Equatorial Guinea', 'Liechtenstein', 'Nepal',\n",
       "       'Greenland', 'Niue', 'Samoa', 'American Samoa', 'Belize',\n",
       "       'Anguilla', 'Cayman Islands', 'Palau', 'Sint Maarten', 'Namibia',\n",
       "       'Åland Islands', 'Ynys Môn', 'Saint Martin', 'San Marino',\n",
       "       'Slovenia', 'Jersey', 'Shetland', 'Isle of Wight', 'Moldova',\n",
       "       'Ukraine', 'Kazakhstan', 'Tajikistan', 'Uzbekistan',\n",
       "       'Turkmenistan', 'Armenia', 'Czech Republic', 'Guernsey',\n",
       "       'Gibraltar', 'Isle of Man', 'North Macedonia', 'Montserrat',\n",
       "       'Serbia', 'Canary Islands', 'Bosnia and Herzegovina', 'Maldives',\n",
       "       'Andorra', 'British Virgin Islands', 'Frøya', 'Hitra',\n",
       "       'United States Virgin Islands', 'Corsica', 'Eritrea', 'Bahamas',\n",
       "       'Gotland', 'Saare County', 'Rhodes', 'Micronesia', 'Bhutan',\n",
       "       'Orkney', 'Monaco', 'Tuvalu', 'Sark', 'Alderney', 'Mayotte',\n",
       "       'Turks and Caicos Islands', 'Timor-Leste', 'Western Isles',\n",
       "       'Falkland Islands', 'Kosovo', 'Republic of St. Pauli', 'Găgăuzia',\n",
       "       'Tibet', 'Occitania', 'Sápmi', 'Northern Mariana Islands',\n",
       "       'Menorca', 'Comoros', 'Provence', 'Arameans Suryoye', 'Padania',\n",
       "       'Iraqi Kurdistan', 'Gozo', 'Bonaire', 'Western Sahara', 'Raetia',\n",
       "       'Darfur', 'Tamil Eelam', 'South Sudan', 'Abkhazia',\n",
       "       'Saint Pierre and Miquelon', 'Artsakh', 'Madrid', 'Vatican City',\n",
       "       'Ellan Vannin', 'South Ossetia', 'County of Nice', 'Székely Land',\n",
       "       'Romani people', 'Felvidék', 'Chagos Islands',\n",
       "       'United Koreans in Japan', 'Somaliland', 'Western Armenia',\n",
       "       'Barawa', 'Kárpátalja', 'Yorkshire', 'Panjab', 'Matabeleland',\n",
       "       'Cascadia', 'Kabylia', 'Parishes of Jersey', 'Chameria',\n",
       "       'Saint Helena'], dtype=object)"
      ]
     },
     "execution_count": 11,
     "metadata": {},
     "output_type": "execute_result"
    }
   ],
   "source": [
    "df.home_team.unique()"
   ]
  },
  {
   "cell_type": "code",
   "execution_count": 12,
   "id": "bee32e7f",
   "metadata": {},
   "outputs": [
    {
     "data": {
      "text/plain": [
       "306"
      ]
     },
     "execution_count": 12,
     "metadata": {},
     "output_type": "execute_result"
    }
   ],
   "source": [
    "len(df.home_team.unique())"
   ]
  },
  {
   "cell_type": "code",
   "execution_count": 15,
   "id": "fd838e8a",
   "metadata": {},
   "outputs": [
    {
     "data": {
      "text/html": [
       "<div>\n",
       "<style scoped>\n",
       "    .dataframe tbody tr th:only-of-type {\n",
       "        vertical-align: middle;\n",
       "    }\n",
       "\n",
       "    .dataframe tbody tr th {\n",
       "        vertical-align: top;\n",
       "    }\n",
       "\n",
       "    .dataframe thead th {\n",
       "        text-align: right;\n",
       "    }\n",
       "</style>\n",
       "<table border=\"1\" class=\"dataframe\">\n",
       "  <thead>\n",
       "    <tr style=\"text-align: right;\">\n",
       "      <th></th>\n",
       "      <th>date</th>\n",
       "      <th>home_team</th>\n",
       "      <th>away_team</th>\n",
       "      <th>home_score</th>\n",
       "      <th>away_score</th>\n",
       "      <th>tournament</th>\n",
       "      <th>city</th>\n",
       "      <th>country</th>\n",
       "      <th>neutral</th>\n",
       "    </tr>\n",
       "  </thead>\n",
       "  <tbody>\n",
       "    <tr>\n",
       "      <th>4851</th>\n",
       "      <td>1960-11-13</td>\n",
       "      <td>Tunisia</td>\n",
       "      <td>Morocco</td>\n",
       "      <td>2</td>\n",
       "      <td>1</td>\n",
       "      <td>FIFA World Cup qualification</td>\n",
       "      <td>Tunis</td>\n",
       "      <td>Tunisia</td>\n",
       "      <td>False</td>\n",
       "    </tr>\n",
       "    <tr>\n",
       "      <th>4905</th>\n",
       "      <td>1961-04-02</td>\n",
       "      <td>Ghana</td>\n",
       "      <td>Morocco</td>\n",
       "      <td>0</td>\n",
       "      <td>0</td>\n",
       "      <td>FIFA World Cup qualification</td>\n",
       "      <td>Accra</td>\n",
       "      <td>Ghana</td>\n",
       "      <td>False</td>\n",
       "    </tr>\n",
       "    <tr>\n",
       "      <th>4962</th>\n",
       "      <td>1961-06-18</td>\n",
       "      <td>Yugoslavia</td>\n",
       "      <td>Morocco</td>\n",
       "      <td>3</td>\n",
       "      <td>2</td>\n",
       "      <td>Friendly</td>\n",
       "      <td>Belgrade</td>\n",
       "      <td>Yugoslavia</td>\n",
       "      <td>False</td>\n",
       "    </tr>\n",
       "    <tr>\n",
       "      <th>4964</th>\n",
       "      <td>1961-06-21</td>\n",
       "      <td>German DR</td>\n",
       "      <td>Morocco</td>\n",
       "      <td>1</td>\n",
       "      <td>2</td>\n",
       "      <td>Friendly</td>\n",
       "      <td>Erfurt</td>\n",
       "      <td>German DR</td>\n",
       "      <td>False</td>\n",
       "    </tr>\n",
       "    <tr>\n",
       "      <th>5053</th>\n",
       "      <td>1961-11-23</td>\n",
       "      <td>Spain</td>\n",
       "      <td>Morocco</td>\n",
       "      <td>3</td>\n",
       "      <td>2</td>\n",
       "      <td>FIFA World Cup qualification</td>\n",
       "      <td>Madrid</td>\n",
       "      <td>Spain</td>\n",
       "      <td>False</td>\n",
       "    </tr>\n",
       "    <tr>\n",
       "      <th>...</th>\n",
       "      <td>...</td>\n",
       "      <td>...</td>\n",
       "      <td>...</td>\n",
       "      <td>...</td>\n",
       "      <td>...</td>\n",
       "      <td>...</td>\n",
       "      <td>...</td>\n",
       "      <td>...</td>\n",
       "      <td>...</td>\n",
       "    </tr>\n",
       "    <tr>\n",
       "      <th>43132</th>\n",
       "      <td>2021-12-04</td>\n",
       "      <td>Jordan</td>\n",
       "      <td>Morocco</td>\n",
       "      <td>0</td>\n",
       "      <td>4</td>\n",
       "      <td>Arab Cup</td>\n",
       "      <td>Al Rayyan</td>\n",
       "      <td>Qatar</td>\n",
       "      <td>True</td>\n",
       "    </tr>\n",
       "    <tr>\n",
       "      <th>43198</th>\n",
       "      <td>2022-01-18</td>\n",
       "      <td>Gabon</td>\n",
       "      <td>Morocco</td>\n",
       "      <td>2</td>\n",
       "      <td>2</td>\n",
       "      <td>African Cup of Nations</td>\n",
       "      <td>Yaoundé</td>\n",
       "      <td>Cameroon</td>\n",
       "      <td>True</td>\n",
       "    </tr>\n",
       "    <tr>\n",
       "      <th>43244</th>\n",
       "      <td>2022-01-30</td>\n",
       "      <td>Egypt</td>\n",
       "      <td>Morocco</td>\n",
       "      <td>2</td>\n",
       "      <td>1</td>\n",
       "      <td>African Cup of Nations</td>\n",
       "      <td>Yaoundé</td>\n",
       "      <td>Cameroon</td>\n",
       "      <td>True</td>\n",
       "    </tr>\n",
       "    <tr>\n",
       "      <th>43327</th>\n",
       "      <td>2022-03-25</td>\n",
       "      <td>DR Congo</td>\n",
       "      <td>Morocco</td>\n",
       "      <td>1</td>\n",
       "      <td>1</td>\n",
       "      <td>FIFA World Cup qualification</td>\n",
       "      <td>Kinshasa</td>\n",
       "      <td>DR Congo</td>\n",
       "      <td>False</td>\n",
       "    </tr>\n",
       "    <tr>\n",
       "      <th>43475</th>\n",
       "      <td>2022-06-01</td>\n",
       "      <td>United States</td>\n",
       "      <td>Morocco</td>\n",
       "      <td>3</td>\n",
       "      <td>0</td>\n",
       "      <td>Friendly</td>\n",
       "      <td>Cincinnati</td>\n",
       "      <td>United States</td>\n",
       "      <td>False</td>\n",
       "    </tr>\n",
       "  </tbody>\n",
       "</table>\n",
       "<p>256 rows × 9 columns</p>\n",
       "</div>"
      ],
      "text/plain": [
       "             date      home_team away_team  home_score  away_score  \\\n",
       "4851   1960-11-13        Tunisia   Morocco           2           1   \n",
       "4905   1961-04-02          Ghana   Morocco           0           0   \n",
       "4962   1961-06-18     Yugoslavia   Morocco           3           2   \n",
       "4964   1961-06-21      German DR   Morocco           1           2   \n",
       "5053   1961-11-23          Spain   Morocco           3           2   \n",
       "...           ...            ...       ...         ...         ...   \n",
       "43132  2021-12-04         Jordan   Morocco           0           4   \n",
       "43198  2022-01-18          Gabon   Morocco           2           2   \n",
       "43244  2022-01-30          Egypt   Morocco           2           1   \n",
       "43327  2022-03-25       DR Congo   Morocco           1           1   \n",
       "43475  2022-06-01  United States   Morocco           3           0   \n",
       "\n",
       "                         tournament        city        country  neutral  \n",
       "4851   FIFA World Cup qualification       Tunis        Tunisia    False  \n",
       "4905   FIFA World Cup qualification       Accra          Ghana    False  \n",
       "4962                       Friendly    Belgrade     Yugoslavia    False  \n",
       "4964                       Friendly      Erfurt      German DR    False  \n",
       "5053   FIFA World Cup qualification      Madrid          Spain    False  \n",
       "...                             ...         ...            ...      ...  \n",
       "43132                      Arab Cup   Al Rayyan          Qatar     True  \n",
       "43198        African Cup of Nations     Yaoundé       Cameroon     True  \n",
       "43244        African Cup of Nations     Yaoundé       Cameroon     True  \n",
       "43327  FIFA World Cup qualification    Kinshasa       DR Congo    False  \n",
       "43475                      Friendly  Cincinnati  United States    False  \n",
       "\n",
       "[256 rows x 9 columns]"
      ]
     },
     "execution_count": 15,
     "metadata": {},
     "output_type": "execute_result"
    }
   ],
   "source": [
    "df.query('away_team==\"Morocco\"')"
   ]
  },
  {
   "cell_type": "code",
   "execution_count": 17,
   "id": "4ff74e22",
   "metadata": {},
   "outputs": [
    {
     "data": {
      "text/html": [
       "<div>\n",
       "<style scoped>\n",
       "    .dataframe tbody tr th:only-of-type {\n",
       "        vertical-align: middle;\n",
       "    }\n",
       "\n",
       "    .dataframe tbody tr th {\n",
       "        vertical-align: top;\n",
       "    }\n",
       "\n",
       "    .dataframe thead th {\n",
       "        text-align: right;\n",
       "    }\n",
       "</style>\n",
       "<table border=\"1\" class=\"dataframe\">\n",
       "  <thead>\n",
       "    <tr style=\"text-align: right;\">\n",
       "      <th></th>\n",
       "      <th>home_team</th>\n",
       "      <th>date</th>\n",
       "    </tr>\n",
       "  </thead>\n",
       "  <tbody>\n",
       "    <tr>\n",
       "      <th>35</th>\n",
       "      <td>Brazil</td>\n",
       "      <td>589</td>\n",
       "    </tr>\n",
       "    <tr>\n",
       "      <th>12</th>\n",
       "      <td>Argentina</td>\n",
       "      <td>564</td>\n",
       "    </tr>\n",
       "    <tr>\n",
       "      <th>168</th>\n",
       "      <td>Mexico</td>\n",
       "      <td>543</td>\n",
       "    </tr>\n",
       "    <tr>\n",
       "      <th>99</th>\n",
       "      <td>Germany</td>\n",
       "      <td>524</td>\n",
       "    </tr>\n",
       "    <tr>\n",
       "      <th>80</th>\n",
       "      <td>England</td>\n",
       "      <td>520</td>\n",
       "    </tr>\n",
       "    <tr>\n",
       "      <th>...</th>\n",
       "      <td>...</td>\n",
       "      <td>...</td>\n",
       "    </tr>\n",
       "    <tr>\n",
       "      <th>51</th>\n",
       "      <td>Central Spain</td>\n",
       "      <td>1</td>\n",
       "    </tr>\n",
       "    <tr>\n",
       "      <th>217</th>\n",
       "      <td>Romani people</td>\n",
       "      <td>1</td>\n",
       "    </tr>\n",
       "    <tr>\n",
       "      <th>232</th>\n",
       "      <td>Sark</td>\n",
       "      <td>1</td>\n",
       "    </tr>\n",
       "    <tr>\n",
       "      <th>54</th>\n",
       "      <td>Chameria</td>\n",
       "      <td>1</td>\n",
       "    </tr>\n",
       "    <tr>\n",
       "      <th>228</th>\n",
       "      <td>Saint Pierre and Miquelon</td>\n",
       "      <td>1</td>\n",
       "    </tr>\n",
       "  </tbody>\n",
       "</table>\n",
       "<p>306 rows × 2 columns</p>\n",
       "</div>"
      ],
      "text/plain": [
       "                     home_team  date\n",
       "35                      Brazil   589\n",
       "12                   Argentina   564\n",
       "168                     Mexico   543\n",
       "99                     Germany   524\n",
       "80                     England   520\n",
       "..                         ...   ...\n",
       "51               Central Spain     1\n",
       "217              Romani people     1\n",
       "232                       Sark     1\n",
       "54                    Chameria     1\n",
       "228  Saint Pierre and Miquelon     1\n",
       "\n",
       "[306 rows x 2 columns]"
      ]
     },
     "execution_count": 17,
     "metadata": {},
     "output_type": "execute_result"
    }
   ],
   "source": [
    "df.groupby(['home_team']).agg({'date':'count'}).reset_index().sort_values(by='date', ascending=False)"
   ]
  },
  {
   "cell_type": "code",
   "execution_count": 18,
   "id": "0f94b3de",
   "metadata": {},
   "outputs": [
    {
     "data": {
      "text/html": [
       "<div>\n",
       "<style scoped>\n",
       "    .dataframe tbody tr th:only-of-type {\n",
       "        vertical-align: middle;\n",
       "    }\n",
       "\n",
       "    .dataframe tbody tr th {\n",
       "        vertical-align: top;\n",
       "    }\n",
       "\n",
       "    .dataframe thead th {\n",
       "        text-align: right;\n",
       "    }\n",
       "</style>\n",
       "<table border=\"1\" class=\"dataframe\">\n",
       "  <thead>\n",
       "    <tr style=\"text-align: right;\">\n",
       "      <th></th>\n",
       "      <th>away_team</th>\n",
       "      <th>date</th>\n",
       "    </tr>\n",
       "  </thead>\n",
       "  <tbody>\n",
       "    <tr>\n",
       "      <th>281</th>\n",
       "      <td>Uruguay</td>\n",
       "      <td>556</td>\n",
       "    </tr>\n",
       "    <tr>\n",
       "      <th>252</th>\n",
       "      <td>Sweden</td>\n",
       "      <td>545</td>\n",
       "    </tr>\n",
       "    <tr>\n",
       "      <th>81</th>\n",
       "      <td>England</td>\n",
       "      <td>522</td>\n",
       "    </tr>\n",
       "    <tr>\n",
       "      <th>119</th>\n",
       "      <td>Hungary</td>\n",
       "      <td>489</td>\n",
       "    </tr>\n",
       "    <tr>\n",
       "      <th>201</th>\n",
       "      <td>Paraguay</td>\n",
       "      <td>471</td>\n",
       "    </tr>\n",
       "    <tr>\n",
       "      <th>100</th>\n",
       "      <td>Germany</td>\n",
       "      <td>456</td>\n",
       "    </tr>\n",
       "    <tr>\n",
       "      <th>12</th>\n",
       "      <td>Argentina</td>\n",
       "      <td>447</td>\n",
       "    </tr>\n",
       "    <tr>\n",
       "      <th>205</th>\n",
       "      <td>Poland</td>\n",
       "      <td>445</td>\n",
       "    </tr>\n",
       "    <tr>\n",
       "      <th>299</th>\n",
       "      <td>Zambia</td>\n",
       "      <td>435</td>\n",
       "    </tr>\n",
       "    <tr>\n",
       "      <th>91</th>\n",
       "      <td>Finland</td>\n",
       "      <td>430</td>\n",
       "    </tr>\n",
       "    <tr>\n",
       "      <th>36</th>\n",
       "      <td>Brazil</td>\n",
       "      <td>425</td>\n",
       "    </tr>\n",
       "    <tr>\n",
       "      <th>191</th>\n",
       "      <td>Norway</td>\n",
       "      <td>417</td>\n",
       "    </tr>\n",
       "    <tr>\n",
       "      <th>230</th>\n",
       "      <td>Scotland</td>\n",
       "      <td>416</td>\n",
       "    </tr>\n",
       "    <tr>\n",
       "      <th>253</th>\n",
       "      <td>Switzerland</td>\n",
       "      <td>408</td>\n",
       "    </tr>\n",
       "    <tr>\n",
       "      <th>73</th>\n",
       "      <td>Denmark</td>\n",
       "      <td>406</td>\n",
       "    </tr>\n",
       "    <tr>\n",
       "      <th>215</th>\n",
       "      <td>Russia</td>\n",
       "      <td>405</td>\n",
       "    </tr>\n",
       "    <tr>\n",
       "      <th>244</th>\n",
       "      <td>South Korea</td>\n",
       "      <td>404</td>\n",
       "    </tr>\n",
       "    <tr>\n",
       "      <th>40</th>\n",
       "      <td>Bulgaria</td>\n",
       "      <td>387</td>\n",
       "    </tr>\n",
       "    <tr>\n",
       "      <th>55</th>\n",
       "      <td>Chile</td>\n",
       "      <td>386</td>\n",
       "    </tr>\n",
       "    <tr>\n",
       "      <th>18</th>\n",
       "      <td>Austria</td>\n",
       "      <td>380</td>\n",
       "    </tr>\n",
       "  </tbody>\n",
       "</table>\n",
       "</div>"
      ],
      "text/plain": [
       "       away_team  date\n",
       "281      Uruguay   556\n",
       "252       Sweden   545\n",
       "81       England   522\n",
       "119      Hungary   489\n",
       "201     Paraguay   471\n",
       "100      Germany   456\n",
       "12     Argentina   447\n",
       "205       Poland   445\n",
       "299       Zambia   435\n",
       "91       Finland   430\n",
       "36        Brazil   425\n",
       "191       Norway   417\n",
       "230     Scotland   416\n",
       "253  Switzerland   408\n",
       "73       Denmark   406\n",
       "215       Russia   405\n",
       "244  South Korea   404\n",
       "40      Bulgaria   387\n",
       "55         Chile   386\n",
       "18       Austria   380"
      ]
     },
     "execution_count": 18,
     "metadata": {},
     "output_type": "execute_result"
    }
   ],
   "source": [
    "df.groupby(['away_team']).agg({'date':'count'}).reset_index().sort_values(by='date', ascending=False).head(20)"
   ]
  },
  {
   "cell_type": "code",
   "execution_count": 19,
   "id": "11f02283",
   "metadata": {},
   "outputs": [
    {
     "data": {
      "text/plain": [
       "Index(['date', 'home_team', 'away_team', 'home_score', 'away_score',\n",
       "       'tournament', 'city', 'country', 'neutral'],\n",
       "      dtype='object')"
      ]
     },
     "execution_count": 19,
     "metadata": {},
     "output_type": "execute_result"
    }
   ],
   "source": [
    "df.columns"
   ]
  },
  {
   "cell_type": "code",
   "execution_count": 21,
   "id": "fb5db23d",
   "metadata": {},
   "outputs": [],
   "source": [
    "import matplotlib.pyplot as plt\n",
    "import seaborn as sns"
   ]
  },
  {
   "cell_type": "code",
   "execution_count": 25,
   "id": "9db4b5ac",
   "metadata": {},
   "outputs": [
    {
     "data": {
      "text/plain": [
       "<AxesSubplot:xlabel='home_score', ylabel='Count'>"
      ]
     },
     "execution_count": 25,
     "metadata": {},
     "output_type": "execute_result"
    },
    {
     "data": {
      "image/png": "[encoded data removed]",
      "text/plain": [
       "<Figure size 432x288 with 1 Axes>"
      ]
     },
     "metadata": {
      "needs_background": "light"
     },
     "output_type": "display_data"
    }
   ],
   "source": [
    "sns.histplot(x='home_score', data=df, bins=20)"
   ]
  },
  {
   "cell_type": "code",
   "execution_count": 26,
   "id": "a8a3c085",
   "metadata": {},
   "outputs": [
    {
     "data": {
      "text/plain": [
       "<AxesSubplot:xlabel='away_score', ylabel='Count'>"
      ]
     },
     "execution_count": 26,
     "metadata": {},
     "output_type": "execute_result"
    },
    {
     "data": {
      "image/png": "[encoded data removed]",
      "text/plain": [
       "<Figure size 432x288 with 1 Axes>"
      ]
     },
     "metadata": {
      "needs_background": "light"
     },
     "output_type": "display_data"
    }
   ],
   "source": [
    "sns.histplot(x='away_score', data=df, bins=20)"
   ]
  },
  {
   "cell_type": "code",
   "execution_count": 28,
   "id": "898a39dc",
   "metadata": {},
   "outputs": [
    {
     "data": {
      "text/html": [
       "<div>\n",
       "<style scoped>\n",
       "    .dataframe tbody tr th:only-of-type {\n",
       "        vertical-align: middle;\n",
       "    }\n",
       "\n",
       "    .dataframe tbody tr th {\n",
       "        vertical-align: top;\n",
       "    }\n",
       "\n",
       "    .dataframe thead th {\n",
       "        text-align: right;\n",
       "    }\n",
       "</style>\n",
       "<table border=\"1\" class=\"dataframe\">\n",
       "  <thead>\n",
       "    <tr style=\"text-align: right;\">\n",
       "      <th></th>\n",
       "      <th>date</th>\n",
       "      <th>home_team</th>\n",
       "      <th>away_team</th>\n",
       "      <th>home_score</th>\n",
       "      <th>away_score</th>\n",
       "      <th>tournament</th>\n",
       "      <th>city</th>\n",
       "      <th>country</th>\n",
       "      <th>neutral</th>\n",
       "    </tr>\n",
       "  </thead>\n",
       "  <tbody>\n",
       "    <tr>\n",
       "      <th>23969</th>\n",
       "      <td>2001-04-11</td>\n",
       "      <td>Australia</td>\n",
       "      <td>American Samoa</td>\n",
       "      <td>31</td>\n",
       "      <td>0</td>\n",
       "      <td>FIFA World Cup qualification</td>\n",
       "      <td>Coffs Harbour</td>\n",
       "      <td>Australia</td>\n",
       "      <td>False</td>\n",
       "    </tr>\n",
       "    <tr>\n",
       "      <th>8010</th>\n",
       "      <td>1971-09-13</td>\n",
       "      <td>Tahiti</td>\n",
       "      <td>Cook Islands</td>\n",
       "      <td>30</td>\n",
       "      <td>0</td>\n",
       "      <td>South Pacific Games</td>\n",
       "      <td>Papeete</td>\n",
       "      <td>French Polynesia</td>\n",
       "      <td>False</td>\n",
       "    </tr>\n",
       "    <tr>\n",
       "      <th>11111</th>\n",
       "      <td>1979-08-30</td>\n",
       "      <td>Fiji</td>\n",
       "      <td>Kiribati</td>\n",
       "      <td>24</td>\n",
       "      <td>0</td>\n",
       "      <td>South Pacific Games</td>\n",
       "      <td>Nausori</td>\n",
       "      <td>Fiji</td>\n",
       "      <td>False</td>\n",
       "    </tr>\n",
       "    <tr>\n",
       "      <th>23966</th>\n",
       "      <td>2001-04-09</td>\n",
       "      <td>Australia</td>\n",
       "      <td>Tonga</td>\n",
       "      <td>22</td>\n",
       "      <td>0</td>\n",
       "      <td>FIFA World Cup qualification</td>\n",
       "      <td>Coffs Harbour</td>\n",
       "      <td>Australia</td>\n",
       "      <td>False</td>\n",
       "    </tr>\n",
       "    <tr>\n",
       "      <th>29005</th>\n",
       "      <td>2006-11-24</td>\n",
       "      <td>Sápmi</td>\n",
       "      <td>Monaco</td>\n",
       "      <td>21</td>\n",
       "      <td>1</td>\n",
       "      <td>Viva World Cup</td>\n",
       "      <td>Hyères</td>\n",
       "      <td>France</td>\n",
       "      <td>True</td>\n",
       "    </tr>\n",
       "    <tr>\n",
       "      <th>6140</th>\n",
       "      <td>1966-04-03</td>\n",
       "      <td>Libya</td>\n",
       "      <td>Oman</td>\n",
       "      <td>21</td>\n",
       "      <td>0</td>\n",
       "      <td>Arab Cup</td>\n",
       "      <td>Baghdad</td>\n",
       "      <td>Iraq</td>\n",
       "      <td>True</td>\n",
       "    </tr>\n",
       "    <tr>\n",
       "      <th>22740</th>\n",
       "      <td>2000-02-14</td>\n",
       "      <td>Kuwait</td>\n",
       "      <td>Bhutan</td>\n",
       "      <td>20</td>\n",
       "      <td>0</td>\n",
       "      <td>AFC Asian Cup qualification</td>\n",
       "      <td>Kuwait City</td>\n",
       "      <td>Kuwait</td>\n",
       "      <td>False</td>\n",
       "    </tr>\n",
       "    <tr>\n",
       "      <th>23628</th>\n",
       "      <td>2000-11-24</td>\n",
       "      <td>Iran</td>\n",
       "      <td>Guam</td>\n",
       "      <td>19</td>\n",
       "      <td>0</td>\n",
       "      <td>FIFA World Cup qualification</td>\n",
       "      <td>Tabriz</td>\n",
       "      <td>Iran</td>\n",
       "      <td>False</td>\n",
       "    </tr>\n",
       "    <tr>\n",
       "      <th>25862</th>\n",
       "      <td>2003-06-29</td>\n",
       "      <td>Gibraltar</td>\n",
       "      <td>Sark</td>\n",
       "      <td>19</td>\n",
       "      <td>0</td>\n",
       "      <td>Island Games</td>\n",
       "      <td>St. Martin</td>\n",
       "      <td>Guernsey</td>\n",
       "      <td>True</td>\n",
       "    </tr>\n",
       "    <tr>\n",
       "      <th>22653</th>\n",
       "      <td>2000-01-26</td>\n",
       "      <td>China PR</td>\n",
       "      <td>Guam</td>\n",
       "      <td>19</td>\n",
       "      <td>0</td>\n",
       "      <td>AFC Asian Cup qualification</td>\n",
       "      <td>Hanoi</td>\n",
       "      <td>Vietnam</td>\n",
       "      <td>True</td>\n",
       "    </tr>\n",
       "    <tr>\n",
       "      <th>11114</th>\n",
       "      <td>1979-08-30</td>\n",
       "      <td>Tahiti</td>\n",
       "      <td>Tuvalu</td>\n",
       "      <td>18</td>\n",
       "      <td>0</td>\n",
       "      <td>South Pacific Games</td>\n",
       "      <td>Suva</td>\n",
       "      <td>Fiji</td>\n",
       "      <td>True</td>\n",
       "    </tr>\n",
       "    <tr>\n",
       "      <th>32713</th>\n",
       "      <td>2010-10-14</td>\n",
       "      <td>Dominican Republic</td>\n",
       "      <td>British Virgin Islands</td>\n",
       "      <td>17</td>\n",
       "      <td>0</td>\n",
       "      <td>CFU Caribbean Cup qualification</td>\n",
       "      <td>San Cristóbal</td>\n",
       "      <td>Dominican Republic</td>\n",
       "      <td>False</td>\n",
       "    </tr>\n",
       "    <tr>\n",
       "      <th>23207</th>\n",
       "      <td>2000-06-19</td>\n",
       "      <td>Australia</td>\n",
       "      <td>Cook Islands</td>\n",
       "      <td>17</td>\n",
       "      <td>0</td>\n",
       "      <td>Oceania Nations Cup</td>\n",
       "      <td>Papeete</td>\n",
       "      <td>French Polynesia</td>\n",
       "      <td>True</td>\n",
       "    </tr>\n",
       "    <tr>\n",
       "      <th>25866</th>\n",
       "      <td>2003-06-30</td>\n",
       "      <td>Tahiti</td>\n",
       "      <td>Micronesia</td>\n",
       "      <td>17</td>\n",
       "      <td>0</td>\n",
       "      <td>South Pacific Games</td>\n",
       "      <td>Suva</td>\n",
       "      <td>Fiji</td>\n",
       "      <td>True</td>\n",
       "    </tr>\n",
       "    <tr>\n",
       "      <th>34517</th>\n",
       "      <td>2012-09-05</td>\n",
       "      <td>Martinique</td>\n",
       "      <td>British Virgin Islands</td>\n",
       "      <td>16</td>\n",
       "      <td>0</td>\n",
       "      <td>CFU Caribbean Cup qualification</td>\n",
       "      <td>Le Lamentin</td>\n",
       "      <td>Martinique</td>\n",
       "      <td>False</td>\n",
       "    </tr>\n",
       "    <tr>\n",
       "      <th>21738</th>\n",
       "      <td>1998-09-28</td>\n",
       "      <td>Australia</td>\n",
       "      <td>Cook Islands</td>\n",
       "      <td>16</td>\n",
       "      <td>0</td>\n",
       "      <td>Oceania Nations Cup</td>\n",
       "      <td>Brisbane</td>\n",
       "      <td>Australia</td>\n",
       "      <td>False</td>\n",
       "    </tr>\n",
       "    <tr>\n",
       "      <th>29657</th>\n",
       "      <td>2007-08-25</td>\n",
       "      <td>Fiji</td>\n",
       "      <td>Tuvalu</td>\n",
       "      <td>16</td>\n",
       "      <td>0</td>\n",
       "      <td>South Pacific Games</td>\n",
       "      <td>Apia</td>\n",
       "      <td>Samoa</td>\n",
       "      <td>True</td>\n",
       "    </tr>\n",
       "    <tr>\n",
       "      <th>25883</th>\n",
       "      <td>2003-07-01</td>\n",
       "      <td>Greenland</td>\n",
       "      <td>Sark</td>\n",
       "      <td>16</td>\n",
       "      <td>0</td>\n",
       "      <td>Island Games</td>\n",
       "      <td>St. Martin</td>\n",
       "      <td>Guernsey</td>\n",
       "      <td>True</td>\n",
       "    </tr>\n",
       "    <tr>\n",
       "      <th>26105</th>\n",
       "      <td>2003-09-29</td>\n",
       "      <td>South Korea</td>\n",
       "      <td>Nepal</td>\n",
       "      <td>16</td>\n",
       "      <td>0</td>\n",
       "      <td>AFC Asian Cup qualification</td>\n",
       "      <td>Incheon</td>\n",
       "      <td>South Korea</td>\n",
       "      <td>False</td>\n",
       "    </tr>\n",
       "    <tr>\n",
       "      <th>23631</th>\n",
       "      <td>2000-11-26</td>\n",
       "      <td>Tajikistan</td>\n",
       "      <td>Guam</td>\n",
       "      <td>16</td>\n",
       "      <td>0</td>\n",
       "      <td>FIFA World Cup qualification</td>\n",
       "      <td>Tabriz</td>\n",
       "      <td>Iran</td>\n",
       "      <td>True</td>\n",
       "    </tr>\n",
       "  </tbody>\n",
       "</table>\n",
       "</div>"
      ],
      "text/plain": [
       "             date           home_team               away_team  home_score  \\\n",
       "23969  2001-04-11           Australia          American Samoa          31   \n",
       "8010   1971-09-13              Tahiti            Cook Islands          30   \n",
       "11111  1979-08-30                Fiji                Kiribati          24   \n",
       "23966  2001-04-09           Australia                   Tonga          22   \n",
       "29005  2006-11-24               Sápmi                  Monaco          21   \n",
       "6140   1966-04-03               Libya                    Oman          21   \n",
       "22740  2000-02-14              Kuwait                  Bhutan          20   \n",
       "23628  2000-11-24                Iran                    Guam          19   \n",
       "25862  2003-06-29           Gibraltar                    Sark          19   \n",
       "22653  2000-01-26            China PR                    Guam          19   \n",
       "11114  1979-08-30              Tahiti                  Tuvalu          18   \n",
       "32713  2010-10-14  Dominican Republic  British Virgin Islands          17   \n",
       "23207  2000-06-19           Australia            Cook Islands          17   \n",
       "25866  2003-06-30              Tahiti              Micronesia          17   \n",
       "34517  2012-09-05          Martinique  British Virgin Islands          16   \n",
       "21738  1998-09-28           Australia            Cook Islands          16   \n",
       "29657  2007-08-25                Fiji                  Tuvalu          16   \n",
       "25883  2003-07-01           Greenland                    Sark          16   \n",
       "26105  2003-09-29         South Korea                   Nepal          16   \n",
       "23631  2000-11-26          Tajikistan                    Guam          16   \n",
       "\n",
       "       away_score                       tournament           city  \\\n",
       "23969           0     FIFA World Cup qualification  Coffs Harbour   \n",
       "8010            0              South Pacific Games        Papeete   \n",
       "11111           0              South Pacific Games        Nausori   \n",
       "23966           0     FIFA World Cup qualification  Coffs Harbour   \n",
       "29005           1                   Viva World Cup         Hyères   \n",
       "6140            0                         Arab Cup        Baghdad   \n",
       "22740           0      AFC Asian Cup qualification    Kuwait City   \n",
       "23628           0     FIFA World Cup qualification         Tabriz   \n",
       "25862           0                     Island Games     St. Martin   \n",
       "22653           0      AFC Asian Cup qualification          Hanoi   \n",
       "11114           0              South Pacific Games           Suva   \n",
       "32713           0  CFU Caribbean Cup qualification  San Cristóbal   \n",
       "23207           0              Oceania Nations Cup        Papeete   \n",
       "25866           0              South Pacific Games           Suva   \n",
       "34517           0  CFU Caribbean Cup qualification    Le Lamentin   \n",
       "21738           0              Oceania Nations Cup       Brisbane   \n",
       "29657           0              South Pacific Games           Apia   \n",
       "25883           0                     Island Games     St. Martin   \n",
       "26105           0      AFC Asian Cup qualification        Incheon   \n",
       "23631           0     FIFA World Cup qualification         Tabriz   \n",
       "\n",
       "                  country  neutral  \n",
       "23969           Australia    False  \n",
       "8010     French Polynesia    False  \n",
       "11111                Fiji    False  \n",
       "23966           Australia    False  \n",
       "29005              France     True  \n",
       "6140                 Iraq     True  \n",
       "22740              Kuwait    False  \n",
       "23628                Iran    False  \n",
       "25862            Guernsey     True  \n",
       "22653             Vietnam     True  \n",
       "11114                Fiji     True  \n",
       "32713  Dominican Republic    False  \n",
       "23207    French Polynesia     True  \n",
       "25866                Fiji     True  \n",
       "34517          Martinique    False  \n",
       "21738           Australia    False  \n",
       "29657               Samoa     True  \n",
       "25883            Guernsey     True  \n",
       "26105         South Korea    False  \n",
       "23631                Iran     True  "
      ]
     },
     "execution_count": 28,
     "metadata": {},
     "output_type": "execute_result"
    }
   ],
   "source": [
    "df.sort_values(by='home_score', ascending=False).head(20)"
   ]
  },
  {
   "cell_type": "code",
   "execution_count": 30,
   "id": "1f665969",
   "metadata": {},
   "outputs": [
    {
     "name": "stderr",
     "output_type": "stream",
     "text": [
      "C:\\Users\\063255\\Projects\\volumes_prediction\\env\\lib\\site-packages\\seaborn\\distributions.py:2551: FutureWarning: `distplot` is a deprecated function and will be removed in a future version. Please adapt your code to use either `displot` (a figure-level function with similar flexibility) or `histplot` (an axes-level function for histograms).\n",
      "  warnings.warn(msg, FutureWarning)\n"
     ]
    },
    {
     "data": {
      "text/plain": [
       "<AxesSubplot:ylabel='Density'>"
      ]
     },
     "execution_count": 30,
     "metadata": {},
     "output_type": "execute_result"
    },
    {
     "data": {
      "image/png": "[encoded data removed]",
      "text/plain": [
       "<Figure size 432x288 with 1 Axes>"
      ]
     },
     "metadata": {
      "needs_background": "light"
     },
     "output_type": "display_data"
    }
   ],
   "source": [
    "sns.distplot(x=df['home_score'])"
   ]
  },
  {
   "cell_type": "code",
   "execution_count": 31,
   "id": "507ffb6c",
   "metadata": {},
   "outputs": [
    {
     "data": {
      "text/plain": [
       "<AxesSubplot:xlabel='home_score', ylabel='Density'>"
      ]
     },
     "execution_count": 31,
     "metadata": {},
     "output_type": "execute_result"
    },
    {
     "data": {
      "image/png": "[encoded data removed]",
      "text/plain": [
       "<Figure size 432x288 with 1 Axes>"
      ]
     },
     "metadata": {
      "needs_background": "light"
     },
     "output_type": "display_data"
    }
   ],
   "source": [
    "sns.kdeplot(x='home_score', data=df)"
   ]
  },
  {
   "cell_type": "code",
   "execution_count": 34,
   "id": "7c467463",
   "metadata": {},
   "outputs": [
    {
     "data": {
      "text/plain": [
       "<AxesSubplot:xlabel='home_score', ylabel='count'>"
      ]
     },
     "execution_count": 34,
     "metadata": {},
     "output_type": "execute_result"
    },
    {
     "data": {
      "image/png": "[encoded data removed]",
      "text/plain": [
       "<Figure size 432x288 with 1 Axes>"
      ]
     },
     "metadata": {
      "needs_background": "light"
     },
     "output_type": "display_data"
    }
   ],
   "source": [
    "sns.countplot(x='home_score', data=df)"
   ]
  },
  {
   "cell_type": "code",
   "execution_count": 35,
   "id": "8e161f42",
   "metadata": {},
   "outputs": [],
   "source": [
    "from scipy.stats import poisson"
   ]
  },
  {
   "cell_type": "code",
   "execution_count": 36,
   "id": "738c7c08",
   "metadata": {},
   "outputs": [
    {
     "data": {
      "text/plain": [
       "0.07384190206702398"
      ]
     },
     "execution_count": 36,
     "metadata": {},
     "output_type": "execute_result"
    }
   ],
   "source": [
    "poisson.pmf(3, 1.1)"
   ]
  },
  {
   "cell_type": "code",
   "execution_count": 40,
   "id": "004abe4a",
   "metadata": {},
   "outputs": [],
   "source": [
    "def winner(home_score, away_score):\n",
    "    if home_score > away_score:\n",
    "        return 'home_win'\n",
    "    elif home_score < away_score:\n",
    "        return 'home_lose'        \n",
    "    else:\n",
    "        return 'draw'\n",
    "    \n",
    "df['winner'] = df.apply(lambda x: winner(x.home_score, x.away_score), axis=1)"
   ]
  },
  {
   "cell_type": "code",
   "execution_count": 42,
   "id": "f7c1aff9",
   "metadata": {},
   "outputs": [
    {
     "data": {
      "text/html": [
       "<div>\n",
       "<style scoped>\n",
       "    .dataframe tbody tr th:only-of-type {\n",
       "        vertical-align: middle;\n",
       "    }\n",
       "\n",
       "    .dataframe tbody tr th {\n",
       "        vertical-align: top;\n",
       "    }\n",
       "\n",
       "    .dataframe thead th {\n",
       "        text-align: right;\n",
       "    }\n",
       "</style>\n",
       "<table border=\"1\" class=\"dataframe\">\n",
       "  <thead>\n",
       "    <tr style=\"text-align: right;\">\n",
       "      <th></th>\n",
       "      <th>date</th>\n",
       "    </tr>\n",
       "    <tr>\n",
       "      <th>winner</th>\n",
       "      <th></th>\n",
       "    </tr>\n",
       "  </thead>\n",
       "  <tbody>\n",
       "    <tr>\n",
       "      <th>draw</th>\n",
       "      <td>10084</td>\n",
       "    </tr>\n",
       "    <tr>\n",
       "      <th>home_lose</th>\n",
       "      <td>12376</td>\n",
       "    </tr>\n",
       "    <tr>\n",
       "      <th>home_win</th>\n",
       "      <td>21292</td>\n",
       "    </tr>\n",
       "  </tbody>\n",
       "</table>\n",
       "</div>"
      ],
      "text/plain": [
       "            date\n",
       "winner          \n",
       "draw       10084\n",
       "home_lose  12376\n",
       "home_win   21292"
      ]
     },
     "execution_count": 42,
     "metadata": {},
     "output_type": "execute_result"
    }
   ],
   "source": [
    "df.groupby(['winner']).agg({'date':'count'})"
   ]
  },
  {
   "cell_type": "code",
   "execution_count": 44,
   "id": "a5b3136a",
   "metadata": {},
   "outputs": [],
   "source": [
    "predictors = ['home_team', 'away_team']\n",
    "\n",
    "X = pd.get_dummies(df[predictors])\n",
    "y = df['winner']"
   ]
  },
  {
   "cell_type": "code",
   "execution_count": 45,
   "id": "8809c015",
   "metadata": {},
   "outputs": [
    {
     "data": {
      "text/plain": [
       "RandomForestClassifier(max_depth=7)"
      ]
     },
     "execution_count": 45,
     "metadata": {},
     "output_type": "execute_result"
    }
   ],
   "source": [
    "from sklearn.ensemble import RandomForestClassifier\n",
    "\n",
    "model = RandomForestClassifier(n_estimators=100, max_depth=7)\n",
    "\n",
    "model.fit(X, y)"
   ]
  },
  {
   "cell_type": "code",
   "execution_count": 47,
   "id": "28bea877",
   "metadata": {},
   "outputs": [
    {
     "name": "stderr",
     "output_type": "stream",
     "text": [
      "C:\\Users\\063255\\Projects\\volumes_prediction\\env\\lib\\site-packages\\sklearn\\metrics\\_classification.py:1245: UndefinedMetricWarning: Precision and F-score are ill-defined and being set to 0.0 in labels with no predicted samples. Use `zero_division` parameter to control this behavior.\n",
      "  _warn_prf(average, modifier, msg_start, len(result))\n",
      "C:\\Users\\063255\\Projects\\volumes_prediction\\env\\lib\\site-packages\\sklearn\\metrics\\_classification.py:1245: UndefinedMetricWarning: Precision and F-score are ill-defined and being set to 0.0 in labels with no predicted samples. Use `zero_division` parameter to control this behavior.\n",
      "  _warn_prf(average, modifier, msg_start, len(result))\n"
     ]
    },
    {
     "name": "stdout",
     "output_type": "stream",
     "text": [
      "              precision    recall  f1-score   support\n",
      "\n",
      "        draw       0.00      0.00      0.00     10084\n",
      "   home_lose       0.81      0.02      0.04     12376\n",
      "    home_win       0.49      1.00      0.66     21292\n",
      "\n",
      "    accuracy                           0.49     43752\n",
      "   macro avg       0.43      0.34      0.23     43752\n",
      "weighted avg       0.47      0.49      0.33     43752\n",
      "\n"
     ]
    },
    {
     "name": "stderr",
     "output_type": "stream",
     "text": [
      "C:\\Users\\063255\\Projects\\volumes_prediction\\env\\lib\\site-packages\\sklearn\\metrics\\_classification.py:1245: UndefinedMetricWarning: Precision and F-score are ill-defined and being set to 0.0 in labels with no predicted samples. Use `zero_division` parameter to control this behavior.\n",
      "  _warn_prf(average, modifier, msg_start, len(result))\n"
     ]
    }
   ],
   "source": [
    "from sklearn.metrics import classification_report\n",
    "\n",
    "print(classification_report(y, model.predict(X)))"
   ]
  },
  {
   "cell_type": "code",
   "execution_count": 48,
   "id": "bcb9c768",
   "metadata": {},
   "outputs": [],
   "source": [
    "precision = .81\n",
    "recall = .02"
   ]
  },
  {
   "cell_type": "code",
   "execution_count": 51,
   "id": "6ca66b2a",
   "metadata": {},
   "outputs": [
    {
     "data": {
      "text/plain": [
       "0.03903614457831325"
      ]
     },
     "execution_count": 51,
     "metadata": {},
     "output_type": "execute_result"
    }
   ],
   "source": [
    "1 / (((1/precision) + (1/recall))/2)"
   ]
  },
  {
   "cell_type": "code",
   "execution_count": 52,
   "id": "e2aa23d8",
   "metadata": {},
   "outputs": [
    {
     "data": {
      "text/plain": [
       "0.03903614457831325"
      ]
     },
     "execution_count": 52,
     "metadata": {},
     "output_type": "execute_result"
    }
   ],
   "source": [
    "2 / (1/precision + 1/recall)"
   ]
  },
  {
   "cell_type": "code",
   "execution_count": null,
   "id": "8a99cf62",
   "metadata": {},
   "outputs": [],
   "source": []
  }
 ],
 "metadata": {
  "kernelspec": {
   "display_name": "vpmain",
   "language": "python",
   "name": "vpmain"
  },
  "language_info": {
   "codemirror_mode": {
    "name": "ipython",
    "version": 3
   },
   "file_extension": ".py",
   "mimetype": "text/x-python",
   "name": "python",
   "nbconvert_exporter": "python",
   "pygments_lexer": "ipython3",
   "version": "3.8.3"
  }
 },
 "nbformat": 4,
 "nbformat_minor": 5
}
